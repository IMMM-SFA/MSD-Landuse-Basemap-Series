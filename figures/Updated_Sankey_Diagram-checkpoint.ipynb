{
 "cells": [
  {
   "cell_type": "markdown",
   "id": "e93120bc",
   "metadata": {},
   "source": [
    "# Updated Sankey Diagram Notebook"
   ]
  },
  {
   "cell_type": "code",
   "execution_count": null,
   "id": "7f819a37",
   "metadata": {},
   "outputs": [],
   "source": [
    "import pandas as pd\n",
    "import plotly.graph_objects as go\n",
    "\n",
    "# Load the updated CSV file\n",
    "df = pd.read_csv(r\".\\Downloads\\Workflow_Plot_Outline.csv\") # Your directory here"
   ]
  },
  {
   "cell_type": "code",
   "execution_count": 2,
   "id": "7326e45e",
   "metadata": {},
   "outputs": [],
   "source": [
    "df_temp = df.groupby([\"Raw Layers\", \"Cropland and Managed\"])[\"Layer Name\"].count().reset_index()\n",
    "df_temp.columns = [\"source\",\"target\", \"value\"]"
   ]
  },
  {
   "cell_type": "code",
   "execution_count": 3,
   "id": "db60a0ff",
   "metadata": {},
   "outputs": [],
   "source": [
    "df_temp[\"source\"] = df_temp.source.map({3:\"Open Water\",4:\"Perennial Snow/Ice\",5:\"Developed, Open Space\",\n",
    "                    6:\"Developed, Low Intensity\",7:\"Developed, Medium Intensity\",8:\"Developed, High Intensity\",\n",
    "                    9:\"Barren Land\",10:\"Deciduous Forest\",11:\"Evergreen Forest\",12:\"Mixed Forest\",\n",
    "                    13:\"Shrub/Scrub\",14:\"Herbaceous\",15:\"Hay/Pasture\",16:\"Cultivated Crops\",17:\"Woody Wetlands\",\n",
    "                    18:\"Emergent Herbaceous Wetlands\"})\n"
   ]
  },
  {
   "cell_type": "code",
   "execution_count": 4,
   "id": "eb827a74",
   "metadata": {},
   "outputs": [],
   "source": [
    "df_temp2 = df.groupby([\"Cropland and Managed\", \"Vegetation Type\"])[\"Layer Name\"].count().reset_index()\n",
    "df_temp2.columns = [\"source\", \"target\", \"value\"]\n",
    "\n",
    "df_temp3 = df.groupby([\"Vegetation Type\", \"Detailed Vegetation\"])[\"Layer Name\"].count().reset_index()\n",
    "df_temp3.columns = [\"source\", \"target\", \"value\"]\n",
    "\n",
    "links = pd.concat([df_temp,df_temp2, df_temp3], axis = 0)\n",
    "\n",
    "unique_source_target = list(pd.unique(links[[\"source\", \"target\"]].values.ravel(\"K\")))\n"
   ]
  },
  {
   "cell_type": "code",
   "execution_count": 5,
   "id": "0f7877e7",
   "metadata": {},
   "outputs": [],
   "source": [
    "mapping_dict = {k: v for v,k in enumerate(unique_source_target)}\n",
    "links[\"source\"] = links[\"source\"].map(mapping_dict)\n",
    "links[\"target\"] = links[\"target\"].map(mapping_dict)\n",
    "links_dict = links.to_dict(orient = \"list\")"
   ]
  },
  {
   "cell_type": "code",
   "execution_count": 16,
   "id": "fd97d1d1",
   "metadata": {},
   "outputs": [
    {
     "data": {
      "application/vnd.plotly.v1+json": {
       "config": {
        "plotlyServerURL": "https://plot.ly"
       },
       "data": [
        {
         "link": {
          "color": "rgba(211, 211, 211, 0.75)",
          "source": [
           0,
           1,
           2,
           3,
           4,
           5,
           6,
           7,
           7,
           8,
           8,
           9,
           9,
           10,
           11,
           11,
           12,
           12,
           13,
           13,
           14,
           15,
           16,
           16,
           16,
           17,
           17,
           17,
           17,
           17,
           18,
           18,
           18,
           19,
           19,
           19,
           19,
           19,
           20,
           20,
           20,
           20,
           20,
           20,
           20,
           21,
           22,
           22,
           22,
           22,
           22,
           22,
           22,
           22,
           23,
           23,
           23,
           23,
           23,
           23,
           23
          ],
          "target": [
           24,
           24,
           25,
           26,
           27,
           28,
           29,
           17,
           19,
           17,
           19,
           17,
           19,
           19,
           17,
           19,
           17,
           19,
           16,
           18,
           24,
           24,
           21,
           22,
           23,
           20,
           30,
           31,
           22,
           23,
           21,
           22,
           23,
           20,
           22,
           23,
           32,
           33,
           34,
           35,
           36,
           37,
           38,
           39,
           40,
           41,
           42,
           43,
           44,
           45,
           46,
           47,
           48,
           49,
           50,
           51,
           52,
           53,
           54,
           55,
           56
          ],
          "value": [
           1,
           1,
           1,
           1,
           1,
           1,
           1,
           3,
           3,
           3,
           3,
           3,
           3,
           2,
           1,
           1,
           1,
           1,
           113,
           113,
           1,
           1,
           107,
           3,
           3,
           3,
           1,
           1,
           3,
           3,
           107,
           3,
           3,
           4,
           4,
           3,
           1,
           1,
           1,
           1,
           1,
           1,
           1,
           1,
           1,
           214,
           1,
           1,
           1,
           6,
           1,
           1,
           1,
           1,
           1,
           1,
           1,
           6,
           1,
           1,
           1
          ]
         },
         "node": {
          "label": [
           "Open Water",
           "Perennial Snow/Ice",
           "Developed, Open Space",
           "Developed, Low Intensity",
           "Developed, Medium Intensity",
           "Developed, High Intensity",
           "Barren Land",
           "Deciduous Forest",
           "Evergreen Forest",
           "Mixed Forest",
           "Shrub/Scrub",
           "Herbaceous",
           "Hay/Pasture",
           "Cultivated Crops",
           "Woody Wetlands",
           "Emergent Herbaceous Wetlands",
           "Irrigated  Crop",
           "Managed Land",
           "Rainfed Crop",
           "Unmanaged Land",
           "Boreal",
           "Non Climate Classification",
           "Temperate",
           "Tropical",
           "Non Changing",
           "Open Space",
           "Low Intensity",
           "Medium Intensity",
           "High Intensity",
           "Barren Lands",
           "Managed Grassland",
           "Managed Pasture",
           "Unmanaged Grassland",
           "Unmanaged Pasture",
           "Boreal Shrubland",
           "Managed Deciduous Boreal Forest",
           "Managed Evergreen Boreal Forest",
           "Managed Mixed Boreal Forest",
           "Unmanaged Deciduous Boreal Forest",
           "Unmanaged Evergreen Boreal Forest",
           "Unmanaged Mixed Boreal Forest",
           "Non Climate Separated Crops",
           "Managed Deciduous Temperate Forest",
           "Managed Evergreen Temperate Forest",
           "Managed Mixed Temperate Forest",
           "Temperate Corn",
           "Temperate Shrubland",
           "Unmanaged Deciduous Temperate Forest",
           "Unmanaged Evergreen Temperate Forest",
           "Unmanaged Mixed Temperate Forest",
           "Managed Deciduous Tropical Forest",
           "Managed Evergreen Tropcial Forest",
           "Managed Mixed Tropical Forest",
           "Tropical Corn",
           "Unmanaged Deciduous Tropical Forest",
           "Unmanaged Evergreen Tropcial Forest",
           "Unmanaged Mixed Tropical Forest"
          ],
          "line": {
           "color": "black",
           "width": 0.5
          },
          "pad": 50,
          "thickness": 30,
          "x": [
           0
          ],
          "y": [
           5
          ]
         },
         "type": "sankey"
        }
       ],
       "layout": {
        "font": {
         "size": 10
        },
        "height": 600,
        "template": {
         "data": {
          "bar": [
           {
            "error_x": {
             "color": "#2a3f5f"
            },
            "error_y": {
             "color": "#2a3f5f"
            },
            "marker": {
             "line": {
              "color": "#E5ECF6",
              "width": 0.5
             },
             "pattern": {
              "fillmode": "overlay",
              "size": 10,
              "solidity": 0.2
             }
            },
            "type": "bar"
           }
          ],
          "barpolar": [
           {
            "marker": {
             "line": {
              "color": "#E5ECF6",
              "width": 0.5
             },
             "pattern": {
              "fillmode": "overlay",
              "size": 10,
              "solidity": 0.2
             }
            },
            "type": "barpolar"
           }
          ],
          "carpet": [
           {
            "aaxis": {
             "endlinecolor": "#2a3f5f",
             "gridcolor": "white",
             "linecolor": "white",
             "minorgridcolor": "white",
             "startlinecolor": "#2a3f5f"
            },
            "baxis": {
             "endlinecolor": "#2a3f5f",
             "gridcolor": "white",
             "linecolor": "white",
             "minorgridcolor": "white",
             "startlinecolor": "#2a3f5f"
            },
            "type": "carpet"
           }
          ],
          "choropleth": [
           {
            "colorbar": {
             "outlinewidth": 0,
             "ticks": ""
            },
            "type": "choropleth"
           }
          ],
          "contour": [
           {
            "colorbar": {
             "outlinewidth": 0,
             "ticks": ""
            },
            "colorscale": [
             [
              0,
              "#0d0887"
             ],
             [
              0.1111111111111111,
              "#46039f"
             ],
             [
              0.2222222222222222,
              "#7201a8"
             ],
             [
              0.3333333333333333,
              "#9c179e"
             ],
             [
              0.4444444444444444,
              "#bd3786"
             ],
             [
              0.5555555555555556,
              "#d8576b"
             ],
             [
              0.6666666666666666,
              "#ed7953"
             ],
             [
              0.7777777777777778,
              "#fb9f3a"
             ],
             [
              0.8888888888888888,
              "#fdca26"
             ],
             [
              1,
              "#f0f921"
             ]
            ],
            "type": "contour"
           }
          ],
          "contourcarpet": [
           {
            "colorbar": {
             "outlinewidth": 0,
             "ticks": ""
            },
            "type": "contourcarpet"
           }
          ],
          "heatmap": [
           {
            "colorbar": {
             "outlinewidth": 0,
             "ticks": ""
            },
            "colorscale": [
             [
              0,
              "#0d0887"
             ],
             [
              0.1111111111111111,
              "#46039f"
             ],
             [
              0.2222222222222222,
              "#7201a8"
             ],
             [
              0.3333333333333333,
              "#9c179e"
             ],
             [
              0.4444444444444444,
              "#bd3786"
             ],
             [
              0.5555555555555556,
              "#d8576b"
             ],
             [
              0.6666666666666666,
              "#ed7953"
             ],
             [
              0.7777777777777778,
              "#fb9f3a"
             ],
             [
              0.8888888888888888,
              "#fdca26"
             ],
             [
              1,
              "#f0f921"
             ]
            ],
            "type": "heatmap"
           }
          ],
          "heatmapgl": [
           {
            "colorbar": {
             "outlinewidth": 0,
             "ticks": ""
            },
            "colorscale": [
             [
              0,
              "#0d0887"
             ],
             [
              0.1111111111111111,
              "#46039f"
             ],
             [
              0.2222222222222222,
              "#7201a8"
             ],
             [
              0.3333333333333333,
              "#9c179e"
             ],
             [
              0.4444444444444444,
              "#bd3786"
             ],
             [
              0.5555555555555556,
              "#d8576b"
             ],
             [
              0.6666666666666666,
              "#ed7953"
             ],
             [
              0.7777777777777778,
              "#fb9f3a"
             ],
             [
              0.8888888888888888,
              "#fdca26"
             ],
             [
              1,
              "#f0f921"
             ]
            ],
            "type": "heatmapgl"
           }
          ],
          "histogram": [
           {
            "marker": {
             "pattern": {
              "fillmode": "overlay",
              "size": 10,
              "solidity": 0.2
             }
            },
            "type": "histogram"
           }
          ],
          "histogram2d": [
           {
            "colorbar": {
             "outlinewidth": 0,
             "ticks": ""
            },
            "colorscale": [
             [
              0,
              "#0d0887"
             ],
             [
              0.1111111111111111,
              "#46039f"
             ],
             [
              0.2222222222222222,
              "#7201a8"
             ],
             [
              0.3333333333333333,
              "#9c179e"
             ],
             [
              0.4444444444444444,
              "#bd3786"
             ],
             [
              0.5555555555555556,
              "#d8576b"
             ],
             [
              0.6666666666666666,
              "#ed7953"
             ],
             [
              0.7777777777777778,
              "#fb9f3a"
             ],
             [
              0.8888888888888888,
              "#fdca26"
             ],
             [
              1,
              "#f0f921"
             ]
            ],
            "type": "histogram2d"
           }
          ],
          "histogram2dcontour": [
           {
            "colorbar": {
             "outlinewidth": 0,
             "ticks": ""
            },
            "colorscale": [
             [
              0,
              "#0d0887"
             ],
             [
              0.1111111111111111,
              "#46039f"
             ],
             [
              0.2222222222222222,
              "#7201a8"
             ],
             [
              0.3333333333333333,
              "#9c179e"
             ],
             [
              0.4444444444444444,
              "#bd3786"
             ],
             [
              0.5555555555555556,
              "#d8576b"
             ],
             [
              0.6666666666666666,
              "#ed7953"
             ],
             [
              0.7777777777777778,
              "#fb9f3a"
             ],
             [
              0.8888888888888888,
              "#fdca26"
             ],
             [
              1,
              "#f0f921"
             ]
            ],
            "type": "histogram2dcontour"
           }
          ],
          "mesh3d": [
           {
            "colorbar": {
             "outlinewidth": 0,
             "ticks": ""
            },
            "type": "mesh3d"
           }
          ],
          "parcoords": [
           {
            "line": {
             "colorbar": {
              "outlinewidth": 0,
              "ticks": ""
             }
            },
            "type": "parcoords"
           }
          ],
          "pie": [
           {
            "automargin": true,
            "type": "pie"
           }
          ],
          "scatter": [
           {
            "fillpattern": {
             "fillmode": "overlay",
             "size": 10,
             "solidity": 0.2
            },
            "type": "scatter"
           }
          ],
          "scatter3d": [
           {
            "line": {
             "colorbar": {
              "outlinewidth": 0,
              "ticks": ""
             }
            },
            "marker": {
             "colorbar": {
              "outlinewidth": 0,
              "ticks": ""
             }
            },
            "type": "scatter3d"
           }
          ],
          "scattercarpet": [
           {
            "marker": {
             "colorbar": {
              "outlinewidth": 0,
              "ticks": ""
             }
            },
            "type": "scattercarpet"
           }
          ],
          "scattergeo": [
           {
            "marker": {
             "colorbar": {
              "outlinewidth": 0,
              "ticks": ""
             }
            },
            "type": "scattergeo"
           }
          ],
          "scattergl": [
           {
            "marker": {
             "colorbar": {
              "outlinewidth": 0,
              "ticks": ""
             }
            },
            "type": "scattergl"
           }
          ],
          "scattermapbox": [
           {
            "marker": {
             "colorbar": {
              "outlinewidth": 0,
              "ticks": ""
             }
            },
            "type": "scattermapbox"
           }
          ],
          "scatterpolar": [
           {
            "marker": {
             "colorbar": {
              "outlinewidth": 0,
              "ticks": ""
             }
            },
            "type": "scatterpolar"
           }
          ],
          "scatterpolargl": [
           {
            "marker": {
             "colorbar": {
              "outlinewidth": 0,
              "ticks": ""
             }
            },
            "type": "scatterpolargl"
           }
          ],
          "scatterternary": [
           {
            "marker": {
             "colorbar": {
              "outlinewidth": 0,
              "ticks": ""
             }
            },
            "type": "scatterternary"
           }
          ],
          "surface": [
           {
            "colorbar": {
             "outlinewidth": 0,
             "ticks": ""
            },
            "colorscale": [
             [
              0,
              "#0d0887"
             ],
             [
              0.1111111111111111,
              "#46039f"
             ],
             [
              0.2222222222222222,
              "#7201a8"
             ],
             [
              0.3333333333333333,
              "#9c179e"
             ],
             [
              0.4444444444444444,
              "#bd3786"
             ],
             [
              0.5555555555555556,
              "#d8576b"
             ],
             [
              0.6666666666666666,
              "#ed7953"
             ],
             [
              0.7777777777777778,
              "#fb9f3a"
             ],
             [
              0.8888888888888888,
              "#fdca26"
             ],
             [
              1,
              "#f0f921"
             ]
            ],
            "type": "surface"
           }
          ],
          "table": [
           {
            "cells": {
             "fill": {
              "color": "#EBF0F8"
             },
             "line": {
              "color": "white"
             }
            },
            "header": {
             "fill": {
              "color": "#C8D4E3"
             },
             "line": {
              "color": "white"
             }
            },
            "type": "table"
           }
          ]
         },
         "layout": {
          "annotationdefaults": {
           "arrowcolor": "#2a3f5f",
           "arrowhead": 0,
           "arrowwidth": 1
          },
          "autotypenumbers": "strict",
          "coloraxis": {
           "colorbar": {
            "outlinewidth": 0,
            "ticks": ""
           }
          },
          "colorscale": {
           "diverging": [
            [
             0,
             "#8e0152"
            ],
            [
             0.1,
             "#c51b7d"
            ],
            [
             0.2,
             "#de77ae"
            ],
            [
             0.3,
             "#f1b6da"
            ],
            [
             0.4,
             "#fde0ef"
            ],
            [
             0.5,
             "#f7f7f7"
            ],
            [
             0.6,
             "#e6f5d0"
            ],
            [
             0.7,
             "#b8e186"
            ],
            [
             0.8,
             "#7fbc41"
            ],
            [
             0.9,
             "#4d9221"
            ],
            [
             1,
             "#276419"
            ]
           ],
           "sequential": [
            [
             0,
             "#0d0887"
            ],
            [
             0.1111111111111111,
             "#46039f"
            ],
            [
             0.2222222222222222,
             "#7201a8"
            ],
            [
             0.3333333333333333,
             "#9c179e"
            ],
            [
             0.4444444444444444,
             "#bd3786"
            ],
            [
             0.5555555555555556,
             "#d8576b"
            ],
            [
             0.6666666666666666,
             "#ed7953"
            ],
            [
             0.7777777777777778,
             "#fb9f3a"
            ],
            [
             0.8888888888888888,
             "#fdca26"
            ],
            [
             1,
             "#f0f921"
            ]
           ],
           "sequentialminus": [
            [
             0,
             "#0d0887"
            ],
            [
             0.1111111111111111,
             "#46039f"
            ],
            [
             0.2222222222222222,
             "#7201a8"
            ],
            [
             0.3333333333333333,
             "#9c179e"
            ],
            [
             0.4444444444444444,
             "#bd3786"
            ],
            [
             0.5555555555555556,
             "#d8576b"
            ],
            [
             0.6666666666666666,
             "#ed7953"
            ],
            [
             0.7777777777777778,
             "#fb9f3a"
            ],
            [
             0.8888888888888888,
             "#fdca26"
            ],
            [
             1,
             "#f0f921"
            ]
           ]
          },
          "colorway": [
           "#636efa",
           "#EF553B",
           "#00cc96",
           "#ab63fa",
           "#FFA15A",
           "#19d3f3",
           "#FF6692",
           "#B6E880",
           "#FF97FF",
           "#FECB52"
          ],
          "font": {
           "color": "#2a3f5f"
          },
          "geo": {
           "bgcolor": "white",
           "lakecolor": "white",
           "landcolor": "#E5ECF6",
           "showlakes": true,
           "showland": true,
           "subunitcolor": "white"
          },
          "hoverlabel": {
           "align": "left"
          },
          "hovermode": "closest",
          "mapbox": {
           "style": "light"
          },
          "paper_bgcolor": "white",
          "plot_bgcolor": "#E5ECF6",
          "polar": {
           "angularaxis": {
            "gridcolor": "white",
            "linecolor": "white",
            "ticks": ""
           },
           "bgcolor": "#E5ECF6",
           "radialaxis": {
            "gridcolor": "white",
            "linecolor": "white",
            "ticks": ""
           }
          },
          "scene": {
           "xaxis": {
            "backgroundcolor": "#E5ECF6",
            "gridcolor": "white",
            "gridwidth": 2,
            "linecolor": "white",
            "showbackground": true,
            "ticks": "",
            "zerolinecolor": "white"
           },
           "yaxis": {
            "backgroundcolor": "#E5ECF6",
            "gridcolor": "white",
            "gridwidth": 2,
            "linecolor": "white",
            "showbackground": true,
            "ticks": "",
            "zerolinecolor": "white"
           },
           "zaxis": {
            "backgroundcolor": "#E5ECF6",
            "gridcolor": "white",
            "gridwidth": 2,
            "linecolor": "white",
            "showbackground": true,
            "ticks": "",
            "zerolinecolor": "white"
           }
          },
          "shapedefaults": {
           "line": {
            "color": "#2a3f5f"
           }
          },
          "ternary": {
           "aaxis": {
            "gridcolor": "white",
            "linecolor": "white",
            "ticks": ""
           },
           "baxis": {
            "gridcolor": "white",
            "linecolor": "white",
            "ticks": ""
           },
           "bgcolor": "#E5ECF6",
           "caxis": {
            "gridcolor": "white",
            "linecolor": "white",
            "ticks": ""
           }
          },
          "title": {
           "x": 0.05
          },
          "xaxis": {
           "automargin": true,
           "gridcolor": "white",
           "linecolor": "white",
           "ticks": "",
           "title": {
            "standoff": 15
           },
           "zerolinecolor": "white",
           "zerolinewidth": 2
          },
          "yaxis": {
           "automargin": true,
           "gridcolor": "white",
           "linecolor": "white",
           "ticks": "",
           "title": {
            "standoff": 15
           },
           "zerolinecolor": "white",
           "zerolinewidth": 2
          }
         }
        },
        "title": {
         "text": "Sankey Diagram"
        },
        "width": 1400
       }
      }
     },
     "metadata": {},
     "output_type": "display_data"
    },
    {
     "name": "stdout",
     "output_type": "stream",
     "text": [
      "Number of nodes: 57\n"
     ]
    }
   ],
   "source": [
    "# Create Sankey diagram\n",
    "\n",
    "layout = dict(width=1400, height=600)\n",
    "fig = go.Figure(data=[go.Sankey(\n",
    "    node=dict(\n",
    "        pad=50,\n",
    "        thickness=30,\n",
    "        line=dict(color='black', width=.5),\n",
    "        label=list(mapping_dict.keys()),\n",
    "        x = [0],\n",
    "        y = [5],\n",
    "    ),\n",
    "    link=dict(\n",
    "        source=links_dict['source'],\n",
    "        target=links_dict['target'],\n",
    "        value=links_dict['value'],\n",
    "        color=\"rgba(211, 211, 211, 0.75)\"  # Light blue with transparency\n",
    "    )\n",
    ")], layout = layout)\n",
    "\n",
    "fig.update_layout(title_text='Sankey Diagram', font_size=10)\n",
    "fig.show()\n",
    "\n",
    "# Count the number of nodes\n",
    "num_nodes = len(list(mapping_dict.keys()))\n",
    "print(f\"Number of nodes: {num_nodes}\")\n"
   ]
  },
  {
   "cell_type": "code",
   "execution_count": 17,
   "id": "2855106e",
   "metadata": {},
   "outputs": [],
   "source": [
    "fig.update_layout(width=1400, height=800)\n",
    "fig.write_image(\"Sankey_Diagram_Updated.pdf\")"
   ]
  },
  {
   "cell_type": "code",
   "execution_count": null,
   "id": "5116912b",
   "metadata": {},
   "outputs": [],
   "source": []
  }
 ],
 "metadata": {
  "kernelspec": {
   "display_name": "base",
   "language": "python",
   "name": "python3"
  },
  "language_info": {
   "codemirror_mode": {
    "name": "ipython",
    "version": 3
   },
   "file_extension": ".py",
   "mimetype": "text/x-python",
   "name": "python",
   "nbconvert_exporter": "python",
   "pygments_lexer": "ipython3",
   "version": "3.12.3"
  }
 },
 "nbformat": 4,
 "nbformat_minor": 5
}
